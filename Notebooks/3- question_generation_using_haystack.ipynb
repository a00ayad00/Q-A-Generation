{
  "nbformat": 4,
  "nbformat_minor": 0,
  "metadata": {
    "colab": {
      "provenance": []
    },
    "kernelspec": {
      "name": "python3",
      "display_name": "Python 3"
    },
    "accelerator": "GPU"
  },
  "cells": [
    {
      "cell_type": "markdown",
      "metadata": {
        "id": "MvBFbCVGELuW"
      },
      "source": [
        "# 1- Keyphrases Extraction"
      ]
    },
    {
      "cell_type": "markdown",
      "source": [
        "[pke reference](https://github.com/boudinfl/pke)"
      ],
      "metadata": {
        "id": "VdfZt3pqQJih"
      }
    },
    {
      "cell_type": "code",
      "source": [
        "# !pip install git+https://github.com/boudinfl/pke.git\n",
        "# !pip install flashtext"
      ],
      "metadata": {
        "id": "QjkgpPg0Qnrv"
      },
      "execution_count": 3,
      "outputs": []
    },
    {
      "cell_type": "code",
      "source": [
        "from nltk.tokenize import sent_tokenize\n",
        "from flashtext import KeywordProcessor\n",
        "\n",
        "def tokenize_sentences(text):\n",
        "    sentences = [sent_tokenize(text)]\n",
        "    sentences = [y for x in sentences for y in x]\n",
        "    # Remove any short sentences less than 20 letters.\n",
        "    sentences = [sentence.strip() for sentence in sentences if len(sentence) > 20]\n",
        "    return sentences\n",
        "\n",
        "def get_sentences_for_keyword(keywords, sentences):\n",
        "    keyword_processor = KeywordProcessor()\n",
        "    keyword_sentences = {}\n",
        "    for word in keywords:\n",
        "        keyword_sentences[word] = []\n",
        "        keyword_processor.add_keyword(word)\n",
        "    for sentence in sentences:\n",
        "        keywords_found = keyword_processor.extract_keywords(sentence)\n",
        "        for key in keywords_found:\n",
        "            keyword_sentences[key].append(sentence)\n",
        "\n",
        "    for key in keyword_sentences.keys():\n",
        "        values = keyword_sentences[key]\n",
        "        values = sorted(values, key=len, reverse=True)\n",
        "        keyword_sentences[key] = values\n",
        "    return keyword_sentences"
      ],
      "metadata": {
        "id": "Jb-wWi8tug17"
      },
      "execution_count": 4,
      "outputs": []
    },
    {
      "cell_type": "code",
      "source": [
        "with open(\"/content/egypt.txt\") as f:\n",
        "    text = f.read()"
      ],
      "metadata": {
        "id": "dXGcC9VJhk4m"
      },
      "execution_count": 5,
      "outputs": []
    },
    {
      "cell_type": "code",
      "source": [
        "import pke\n",
        "\n",
        "extractor = pke.unsupervised.TopicRank()\n",
        "\n",
        "extractor.load_document(input=text, language='en')\n",
        "\n",
        "extractor.candidate_selection()\n",
        "\n",
        "extractor.candidate_weighting()\n",
        "\n",
        "keyphrases = extractor.get_n_best(n=10)"
      ],
      "metadata": {
        "id": "OIFdQOF7my83"
      },
      "execution_count": 36,
      "outputs": []
    },
    {
      "cell_type": "code",
      "source": [
        "keyphrases = [kp[0] for kp in keyphrases]"
      ],
      "metadata": {
        "id": "nz29QsmD8Guo"
      },
      "execution_count": 37,
      "outputs": []
    },
    {
      "cell_type": "code",
      "source": [
        "import nltk\n",
        "nltk.download('punkt')"
      ],
      "metadata": {
        "colab": {
          "base_uri": "https://localhost:8080/"
        },
        "id": "vYpkgI6O285w",
        "outputId": "137c85a7-8633-4399-bf76-a0576179b577"
      },
      "execution_count": 38,
      "outputs": [
        {
          "output_type": "stream",
          "name": "stderr",
          "text": [
            "[nltk_data] Downloading package punkt to /root/nltk_data...\n",
            "[nltk_data]   Package punkt is already up-to-date!\n"
          ]
        },
        {
          "output_type": "execute_result",
          "data": {
            "text/plain": [
              "True"
            ]
          },
          "metadata": {},
          "execution_count": 38
        }
      ]
    },
    {
      "cell_type": "code",
      "source": [
        "sentences = tokenize_sentences(text)\n",
        "keyword_sentence_mapping = get_sentences_for_keyword(keyphrases, sentences)\n",
        "\n",
        "print(keyword_sentence_mapping)"
      ],
      "metadata": {
        "id": "HStSm4N2u-z7",
        "outputId": "b6ded7ac-e764-45bb-f2df-dfdafb18e14c",
        "colab": {
          "base_uri": "https://localhost:8080/"
        }
      },
      "execution_count": 39,
      "outputs": [
        {
          "output_type": "stream",
          "name": "stdout",
          "text": [
            "{'egyptian civilization': ['As Egyptian civilization grew more complex, people took on jobs other than that of a farmer or scribe.', 'The Nile River fed Egyptian civilization for hundreds of years.'], 'egypt': ['As in many ancient societies, much of the knowledge of Egypt came about as priests studied the world to find ways to please the gods.', 'Veins (long streaks) of copper, iron, and bronze were hidden inside desert mountains in the hot Sinai Peninsula, east of Egypt.', 'Because the pharaoh was thought to be a god, government and religion were not separate in ancient Egypt.', 'If Egypt suffered hard times for a long period, the people blamed the pharaoh for angering the gods.', 'For about 500 more years, the kings held Egypt together, but with a much weaker central government.', 'In Egypt, people became slaves if they owed a debt, committed a crime, or were captured in war.', 'Children in Egypt played with toys such as dolls, animal figures, board games, and marbles.', 'The first rulers of Egypt were often buried in an underground tomb topped by mud brick.', 'Ancient Egypt had no money, so people exchanged goods that they grew or made.', 'It combined the red Crown of Lower Egypt with the white Crown of Upper Egypt.', 'It combined the red Crown of Lower Egypt with the white Crown of Upper Egypt.', 'Rulers during the Middle Kingdom also faced challenges from outside Egypt.', 'Egypt was one of the best places in the ancient world to be a woman.', 'A nomadic people called the Hyksos invaded Egypt from the northeast.', 'Legend says a king named Narmer united Upper and Lower Egypt.', 'After Egypt was united, its ruler wore the Double Crown.', 'The king of Egypt became known as the pharaoh pharaoh.', 'One of the highest jobs in Egypt was to be a priest.', 'The parts of Egypt not near the Nile were a desert.', 'Weather in Egypt was almost always the same.', 'Egypt also created an army to defend itself.', 'As Egypt grew, so did its need to organize.', 'More than 30 dynasties ruled ancient Egypt.', 'Egypt’s economy depended on farming.', 'Egypt prospered along the Nile.'], 'nile river': ['Unlike the Tigris and Euphrates, the Nile River flooded at the same time every year, so farmers could predict when to plant their crops.', 'The Nile River fed Egyptian civilization for hundreds of years.'], 'word pharaoh': ['The word pharaoh meant “great house,” and it was originally used to describe the king’s palace.'], 'underground tomb': ['The first rulers of Egypt were often buried in an underground tomb topped by mud brick.'], 'small pyramid': ['They replaced the mud brick with a small pyramid of brick or stone.'], 'priest': ['Before entering a temple, a priest bathed and put on special linen garments and white sandals.', 'One of the highest jobs in Egypt was to be a priest.'], 'people': ['Cities emerge as centers of culture and power, and people learn to do jobs that do not involve agriculture.', 'For example, some ancient Egyptians learned to be scribes, people whose job was to write and keep records.', 'As Egyptian civilization grew more complex, people took on jobs other than that of a farmer or scribe.', 'A city called Giza was built for the pyramid workers and the people who fed, clothed, and housed them.', 'If Egypt suffered hard times for a long period, the people blamed the pharaoh for angering the gods.', 'In Egypt, people became slaves if they owed a debt, committed a crime, or were captured in war.', 'Ancient Egypt had no money, so people exchanged goods that they grew or made.', 'Scenes might also show people providing for the needs of the dead person.', 'A nomadic people called the Hyksos invaded Egypt from the northeast.', 'They were probably the first people in the world to mine turquoise.', 'As a result, crops would not grow, and people would die.'], 'years': ['About 80 years later, a pharaoh named Khufu decided he wanted a monument that would show the world how great he was.', 'About 5,000 years ago, they noticed that a star now called Sirius appeared shortly before the Nile began to flood.', 'For about 500 more years, the kings held Egypt together, but with a much weaker central government.', 'After about 100 years, the Egyptians drove out the Hyksos and began the New Kingdom.', 'The Nile River fed Egyptian civilization for hundreds of years.', 'The Great Pyramid took nearly 20 years to build.'], 'king': ['The word pharaoh meant “great house,” and it was originally used to describe the king’s palace.', 'About 2630 B.C., King Djoser built a much larger pyramid over his tomb.', 'When a king died, one of his children usually took his place as ruler.', 'Legend says a king named Narmer united Upper and Lower Egypt.', 'The king of Egypt became known as the pharaoh pharaoh.', 'Later it became the title of the king himself.']}\n"
          ]
        }
      ]
    },
    {
      "cell_type": "code",
      "source": [
        "paras=[]\n",
        "kps = []\n",
        "for i, j in keyword_sentence_mapping.items():\n",
        "    paras.append(' '.join(j))\n",
        "    kps.append(i)\n",
        "\n",
        "len(paras)==len(kps)"
      ],
      "metadata": {
        "id": "h_ekGV83vSTQ",
        "outputId": "74cf7d10-e909-44f7-c9bc-55ca3393dc13",
        "colab": {
          "base_uri": "https://localhost:8080/"
        }
      },
      "execution_count": 40,
      "outputs": [
        {
          "output_type": "execute_result",
          "data": {
            "text/plain": [
              "True"
            ]
          },
          "metadata": {},
          "execution_count": 40
        }
      ]
    },
    {
      "cell_type": "code",
      "source": [
        "len(paras)"
      ],
      "metadata": {
        "colab": {
          "base_uri": "https://localhost:8080/"
        },
        "id": "BEaeem4RXROR",
        "outputId": "fd72df8d-68da-4a16-fcec-53d3d90939fc"
      },
      "execution_count": 41,
      "outputs": [
        {
          "output_type": "execute_result",
          "data": {
            "text/plain": [
              "10"
            ]
          },
          "metadata": {},
          "execution_count": 41
        }
      ]
    },
    {
      "cell_type": "markdown",
      "source": [
        "# 2- Q&A generation using haystack model"
      ],
      "metadata": {
        "id": "noFkpmoSPZJW"
      }
    },
    {
      "cell_type": "markdown",
      "source": [
        "[haystack reference 1](https://github.com/deepset-ai/haystack)\n",
        "\n",
        "[haystack reference 2](https://github.com/deepset-ai/haystack-tutorials/blob/main/tutorials/03_Basic_QA_Pipeline_without_Elasticsearch.ipynb)\n",
        "\n",
        "[haystack reference 3](https://github.com/deepset-ai/haystack-tutorials/blob/main/tutorials/13_Question_generation.ipynb)"
      ],
      "metadata": {
        "id": "qt_i00v2Q7qU"
      }
    },
    {
      "cell_type": "code",
      "source": [
        "# !pip install --upgrade pip\n",
        "# !pip install git+https://github.com/deepset-ai/haystack.git\n",
        "\n",
        "# !wget https://artifacts.elastic.co/downloads/elasticsearch/elasticsearch-7.9.2-linux-x86_64.tar.gz -q\n",
        "# !tar -xzf elasticsearch-7.9.2-linux-x86_64.tar.gz\n",
        "# !chown -R daemon:daemon elasticsearch-7.9.2"
      ],
      "metadata": {
        "id": "QPSH_5aBUF1s"
      },
      "execution_count": 12,
      "outputs": []
    },
    {
      "cell_type": "code",
      "source": [
        "import os\n",
        "from subprocess import Popen, PIPE, STDOUT\n",
        "\n",
        "es_server = Popen(\n",
        "    [\"elasticsearch-7.9.2/bin/elasticsearch\"], stdout=PIPE, stderr=STDOUT, preexec_fn=lambda: os.setuid(1)  # as daemon\n",
        ")\n",
        "\n",
        "! sleep 30"
      ],
      "metadata": {
        "id": "fPSiAWZskfpr"
      },
      "execution_count": 42,
      "outputs": []
    },
    {
      "cell_type": "code",
      "source": [
        "import logging\n",
        "\n",
        "logging.basicConfig(format=\"%(levelname)s - %(name)s -  %(message)s\", level=logging.WARNING)\n",
        "logging.getLogger(\"haystack\").setLevel(logging.INFO)"
      ],
      "metadata": {
        "id": "nKEO1zi08gz6"
      },
      "execution_count": 43,
      "outputs": []
    },
    {
      "cell_type": "code",
      "source": [
        "from pprint import pprint\n",
        "from tqdm import tqdm\n",
        "from haystack.nodes import QuestionGenerator, BM25Retriever, FARMReader\n",
        "from haystack.document_stores import ElasticsearchDocumentStore\n",
        "from haystack.pipelines import (\n",
        "    QuestionGenerationPipeline,\n",
        "    RetrieverQuestionGenerationPipeline,\n",
        "    QuestionAnswerGenerationPipeline,\n",
        ")\n",
        "from haystack.utils import launch_es, print_questions, export_utils\n",
        "\n",
        "\n",
        "launch_es()"
      ],
      "metadata": {
        "colab": {
          "base_uri": "https://localhost:8080/"
        },
        "id": "0fHiwC7N8gsC",
        "outputId": "f7c1de13-6b0e-42c5-fdf4-9fdbe4d359c1"
      },
      "execution_count": 44,
      "outputs": [
        {
          "output_type": "stream",
          "name": "stderr",
          "text": [
            "WARNING:haystack.utils.doc_store:Tried to start Elasticsearch through Docker but this failed. It is likely that there is already an existing Elasticsearch instance running. \n"
          ]
        }
      ]
    },
    {
      "cell_type": "code",
      "source": [
        "docs = [{\"content\": para} for para in paras]\n",
        "len(docs)"
      ],
      "metadata": {
        "colab": {
          "base_uri": "https://localhost:8080/"
        },
        "id": "uGWjE9it8kuy",
        "outputId": "a55f77c5-9434-437f-eeae-53ad4b01be01"
      },
      "execution_count": 70,
      "outputs": [
        {
          "output_type": "execute_result",
          "data": {
            "text/plain": [
              "10"
            ]
          },
          "metadata": {},
          "execution_count": 70
        }
      ]
    },
    {
      "cell_type": "code",
      "source": [
        "document_store = ElasticsearchDocumentStore()\n",
        "document_store.delete_documents()\n",
        "document_store.write_documents(docs)\n",
        "\n",
        "question_generator = QuestionGenerator()"
      ],
      "metadata": {
        "colab": {
          "base_uri": "https://localhost:8080/"
        },
        "id": "mOOzPvWn8knx",
        "outputId": "c0784744-bfd8-47f3-ffb9-bec17d95a906"
      },
      "execution_count": 46,
      "outputs": [
        {
          "output_type": "stream",
          "name": "stderr",
          "text": [
            "INFO:haystack.modeling.utils:Using devices: CUDA:0 - Number of GPUs: 1\n",
            "Using sep_token, but it is not set yet.\n"
          ]
        }
      ]
    },
    {
      "cell_type": "code",
      "source": [
        "retriever = BM25Retriever(document_store=document_store)\n",
        "rqg_pipeline = RetrieverQuestionGenerationPipeline(retriever, question_generator)\n",
        "\n",
        "reader = FARMReader(\"deepset/roberta-base-squad2\")\n",
        "qag_pipeline = QuestionAnswerGenerationPipeline(question_generator, reader)"
      ],
      "metadata": {
        "colab": {
          "base_uri": "https://localhost:8080/"
        },
        "id": "pMWOTRxq8kgE",
        "outputId": "ab5dfac5-a015-4268-ccf2-c91b4c3d7dac"
      },
      "execution_count": 47,
      "outputs": [
        {
          "output_type": "stream",
          "name": "stderr",
          "text": [
            "INFO:haystack.modeling.utils:Using devices: CUDA:0 - Number of GPUs: 1\n",
            "INFO:haystack.modeling.utils:Using devices: CUDA:0 - Number of GPUs: 1\n",
            "INFO:haystack.modeling.model.language_model: * LOADING MODEL: 'deepset/roberta-base-squad2' (Roberta)\n",
            "INFO:haystack.modeling.model.language_model:Auto-detected model language: english\n",
            "INFO:haystack.modeling.model.language_model:Loaded 'deepset/roberta-base-squad2' (Roberta model) from model hub.\n",
            "INFO:haystack.modeling.utils:Using devices: CUDA:0 - Number of GPUs: 1\n",
            "INFO:haystack.modeling.infer:Got ya 2 parallel workers to do inference ...\n",
            "INFO:haystack.modeling.infer: 0     0  \n",
            "INFO:haystack.modeling.infer:/w\\   /w\\ \n",
            "INFO:haystack.modeling.infer:/'\\   / \\ \n"
          ]
        }
      ]
    },
    {
      "cell_type": "code",
      "source": [
        "data = {}\n",
        "\n",
        "data['keyphrases'] = []\n",
        "data[\"context\"] = []\n",
        "data[\"query\"] = []\n",
        "data[\"answer\"] = []"
      ],
      "metadata": {
        "id": "zvKiaJxPHm6H"
      },
      "execution_count": 77,
      "outputs": []
    },
    {
      "cell_type": "code",
      "source": [
        "for idx, document in enumerate(tqdm(document_store)):\n",
        "\n",
        "    print(f\"\\n * Generating questions and answers for document {idx}: {document.content[:100]}...\\n\")\n",
        "    result = qag_pipeline.run(documents=[document])\n",
        "    # print_questions(result)\n",
        "    for q in result['queries']:\n",
        "      data[\"query\"].append(q)\n",
        "    for a in result['answers']:\n",
        "      data['answer'].append(a[0].answer)\n",
        "    for c in result['documents']:\n",
        "      data[\"context\"].append(c[0].content)"
      ],
      "metadata": {
        "colab": {
          "base_uri": "https://localhost:8080/"
        },
        "id": "EczrT9-n8gkE",
        "outputId": "00538f67-b740-45e3-b7e8-cb496cd178de"
      },
      "execution_count": 78,
      "outputs": [
        {
          "output_type": "stream",
          "name": "stderr",
          "text": [
            "\r0it [00:00, ?it/s]"
          ]
        },
        {
          "output_type": "stream",
          "name": "stdout",
          "text": [
            "\n",
            " * Generating questions and answers for document 0: As Egyptian civilization grew more complex, people took on jobs other than that of a farmer or scrib...\n",
            "\n"
          ]
        },
        {
          "output_type": "stream",
          "name": "stderr",
          "text": [
            "\n",
            "Inferencing Samples: 100%|██████████| 1/1 [00:00<00:00, 27.14 Batches/s]\n",
            "1it [00:01,  1.13s/it]"
          ]
        },
        {
          "output_type": "stream",
          "name": "stdout",
          "text": [
            "\n",
            " * Generating questions and answers for document 1: As in many ancient societies, much of the knowledge of Egypt came about as priests studied the world...\n",
            "\n"
          ]
        },
        {
          "output_type": "stream",
          "name": "stderr",
          "text": [
            "\n",
            "Inferencing Samples:   0%|          | 0/1 [00:00<?, ? Batches/s]\u001b[A\n",
            "Inferencing Samples: 100%|██████████| 1/1 [00:00<00:00,  2.34 Batches/s]\n",
            "\n",
            "Inferencing Samples:   0%|          | 0/1 [00:00<?, ? Batches/s]\u001b[A\n",
            "Inferencing Samples: 100%|██████████| 1/1 [00:00<00:00,  2.33 Batches/s]\n",
            "\n",
            "Inferencing Samples:   0%|          | 0/1 [00:00<?, ? Batches/s]\u001b[A\n",
            "Inferencing Samples: 100%|██████████| 1/1 [00:00<00:00,  5.27 Batches/s]\n",
            "2it [00:03,  2.14s/it]"
          ]
        },
        {
          "output_type": "stream",
          "name": "stdout",
          "text": [
            "\n",
            " * Generating questions and answers for document 2: Unlike the Tigris and Euphrates, the Nile River flooded at the same time every year, so farmers coul...\n",
            "\n"
          ]
        },
        {
          "output_type": "stream",
          "name": "stderr",
          "text": [
            "\n",
            "Inferencing Samples: 100%|██████████| 1/1 [00:00<00:00, 23.62 Batches/s]\n",
            "3it [00:04,  1.60s/it]"
          ]
        },
        {
          "output_type": "stream",
          "name": "stdout",
          "text": [
            "\n",
            " * Generating questions and answers for document 3: The word pharaoh meant “great house,” and it was originally used to describe the king’s palace....\n",
            "\n"
          ]
        },
        {
          "output_type": "stream",
          "name": "stderr",
          "text": [
            "\n",
            "Inferencing Samples: 100%|██████████| 1/1 [00:00<00:00, 29.46 Batches/s]\n",
            "4it [00:06,  1.44s/it]"
          ]
        },
        {
          "output_type": "stream",
          "name": "stdout",
          "text": [
            "\n",
            " * Generating questions and answers for document 4: The first rulers of Egypt were often buried in an underground tomb topped by mud brick....\n",
            "\n"
          ]
        },
        {
          "output_type": "stream",
          "name": "stderr",
          "text": [
            "\n",
            "Inferencing Samples: 100%|██████████| 1/1 [00:00<00:00, 26.55 Batches/s]\n",
            "5it [00:06,  1.18s/it]"
          ]
        },
        {
          "output_type": "stream",
          "name": "stdout",
          "text": [
            "\n",
            " * Generating questions and answers for document 5: They replaced the mud brick with a small pyramid of brick or stone....\n",
            "\n"
          ]
        },
        {
          "output_type": "stream",
          "name": "stderr",
          "text": [
            "\n",
            "Inferencing Samples: 100%|██████████| 1/1 [00:00<00:00, 26.43 Batches/s]\n",
            "6it [00:07,  1.04it/s]"
          ]
        },
        {
          "output_type": "stream",
          "name": "stdout",
          "text": [
            "\n",
            " * Generating questions and answers for document 6: Before entering a temple, a priest bathed and put on special linen garments and white sandals. One o...\n",
            "\n"
          ]
        },
        {
          "output_type": "stream",
          "name": "stderr",
          "text": [
            "\n",
            "Inferencing Samples: 100%|██████████| 1/1 [00:00<00:00, 24.69 Batches/s]\n",
            "7it [00:08,  1.17it/s]"
          ]
        },
        {
          "output_type": "stream",
          "name": "stdout",
          "text": [
            "\n",
            " * Generating questions and answers for document 7: Cities emerge as centers of culture and power, and people learn to do jobs that do not involve agric...\n",
            "\n"
          ]
        },
        {
          "output_type": "stream",
          "name": "stderr",
          "text": [
            "\n",
            "Inferencing Samples:   0%|          | 0/1 [00:00<?, ? Batches/s]\u001b[A\n",
            "Inferencing Samples: 100%|██████████| 1/1 [00:00<00:00,  6.96 Batches/s]\n",
            "\n",
            "Inferencing Samples: 100%|██████████| 1/1 [00:00<00:00, 32.17 Batches/s]\n",
            "8it [00:09,  1.15s/it]"
          ]
        },
        {
          "output_type": "stream",
          "name": "stdout",
          "text": [
            "\n",
            " * Generating questions and answers for document 8: About 80 years later, a pharaoh named Khufu decided he wanted a monument that would show the world h...\n",
            "\n"
          ]
        },
        {
          "output_type": "stream",
          "name": "stderr",
          "text": [
            "\n",
            "Inferencing Samples: 100%|██████████| 1/1 [00:00<00:00,  9.99 Batches/s]\n",
            "9it [00:11,  1.21s/it]"
          ]
        },
        {
          "output_type": "stream",
          "name": "stdout",
          "text": [
            "\n",
            " * Generating questions and answers for document 9: The word pharaoh meant “great house,” and it was originally used to describe the king’s palace. Abou...\n",
            "\n"
          ]
        },
        {
          "output_type": "stream",
          "name": "stderr",
          "text": [
            "\n",
            "Inferencing Samples: 100%|██████████| 1/1 [00:00<00:00, 16.47 Batches/s]\n",
            "10it [00:12,  1.22s/it]\n"
          ]
        }
      ]
    },
    {
      "cell_type": "code",
      "source": [
        "for i in data[\"context\"]:\n",
        "  keyphrase = []\n",
        "  for j in kps:\n",
        "    if j.lower() in i.lower():\n",
        "       keyphrase.append(j)\n",
        "  data['keyphrases'].append(keyphrase)"
      ],
      "metadata": {
        "id": "Pec-P-jaGpj6"
      },
      "execution_count": 79,
      "outputs": []
    },
    {
      "cell_type": "markdown",
      "source": [
        "### create and save the dataframe"
      ],
      "metadata": {
        "id": "ldG7GXMuL2pD"
      }
    },
    {
      "cell_type": "code",
      "source": [
        "import pandas as pd\n",
        "\n",
        "df = pd.DataFrame(data)\n",
        "\n",
        "df.head()"
      ],
      "metadata": {
        "colab": {
          "base_uri": "https://localhost:8080/",
          "height": 424
        },
        "id": "WP-Lc6IJ8vBa",
        "outputId": "9677679b-3945-499c-df2d-5bc32e6682ff"
      },
      "execution_count": 80,
      "outputs": [
        {
          "output_type": "execute_result",
          "data": {
            "text/plain": [
              "                                                  keyphrases  \\\n",
              "0  [egyptian civilization, egypt, nile river, people, years]   \n",
              "1     [egypt, underground tomb, priest, people, years, king]   \n",
              "2     [egypt, underground tomb, priest, people, years, king]   \n",
              "3     [egypt, underground tomb, priest, people, years, king]   \n",
              "4     [egypt, underground tomb, priest, people, years, king]   \n",
              "\n",
              "                                                                           context  \\\n",
              "0  As Egyptian civilization grew more complex, people took on jobs other than t...   \n",
              "1  As in many ancient societies, much of the knowledge of Egypt came about as p...   \n",
              "2  As in many ancient societies, much of the knowledge of Egypt came about as p...   \n",
              "3  As in many ancient societies, much of the knowledge of Egypt came about as p...   \n",
              "4  As in many ancient societies, much of the knowledge of Egypt came about as p...   \n",
              "\n",
              "                                                               query  \\\n",
              "0        What river fed Egyptian civilization for hundreds of years?   \n",
              "1  When did priests study the world to find ways to please the gods?   \n",
              "2               Where were veins of copper, iron, and bronze hidden?   \n",
              "3                                               Who was the pharaoh?   \n",
              "4                                   What peninsula is east of Egypt?   \n",
              "\n",
              "                                              answer  \n",
              "0                                     The Nile River  \n",
              "1  ancient societies, much of the knowledge of Egypt  \n",
              "2                                   desert mountains  \n",
              "3                                              a god  \n",
              "4                                    Sinai Peninsula  "
            ],
            "text/html": [
              "\n",
              "  <div id=\"df-845d57ba-4af9-4061-b8fe-4d193e73e9dd\">\n",
              "    <div class=\"colab-df-container\">\n",
              "      <div>\n",
              "<style scoped>\n",
              "    .dataframe tbody tr th:only-of-type {\n",
              "        vertical-align: middle;\n",
              "    }\n",
              "\n",
              "    .dataframe tbody tr th {\n",
              "        vertical-align: top;\n",
              "    }\n",
              "\n",
              "    .dataframe thead th {\n",
              "        text-align: right;\n",
              "    }\n",
              "</style>\n",
              "<table border=\"1\" class=\"dataframe\">\n",
              "  <thead>\n",
              "    <tr style=\"text-align: right;\">\n",
              "      <th></th>\n",
              "      <th>keyphrases</th>\n",
              "      <th>context</th>\n",
              "      <th>query</th>\n",
              "      <th>answer</th>\n",
              "    </tr>\n",
              "  </thead>\n",
              "  <tbody>\n",
              "    <tr>\n",
              "      <th>0</th>\n",
              "      <td>[egyptian civilization, egypt, nile river, people, years]</td>\n",
              "      <td>As Egyptian civilization grew more complex, people took on jobs other than t...</td>\n",
              "      <td>What river fed Egyptian civilization for hundreds of years?</td>\n",
              "      <td>The Nile River</td>\n",
              "    </tr>\n",
              "    <tr>\n",
              "      <th>1</th>\n",
              "      <td>[egypt, underground tomb, priest, people, years, king]</td>\n",
              "      <td>As in many ancient societies, much of the knowledge of Egypt came about as p...</td>\n",
              "      <td>When did priests study the world to find ways to please the gods?</td>\n",
              "      <td>ancient societies, much of the knowledge of Egypt</td>\n",
              "    </tr>\n",
              "    <tr>\n",
              "      <th>2</th>\n",
              "      <td>[egypt, underground tomb, priest, people, years, king]</td>\n",
              "      <td>As in many ancient societies, much of the knowledge of Egypt came about as p...</td>\n",
              "      <td>Where were veins of copper, iron, and bronze hidden?</td>\n",
              "      <td>desert mountains</td>\n",
              "    </tr>\n",
              "    <tr>\n",
              "      <th>3</th>\n",
              "      <td>[egypt, underground tomb, priest, people, years, king]</td>\n",
              "      <td>As in many ancient societies, much of the knowledge of Egypt came about as p...</td>\n",
              "      <td>Who was the pharaoh?</td>\n",
              "      <td>a god</td>\n",
              "    </tr>\n",
              "    <tr>\n",
              "      <th>4</th>\n",
              "      <td>[egypt, underground tomb, priest, people, years, king]</td>\n",
              "      <td>As in many ancient societies, much of the knowledge of Egypt came about as p...</td>\n",
              "      <td>What peninsula is east of Egypt?</td>\n",
              "      <td>Sinai Peninsula</td>\n",
              "    </tr>\n",
              "  </tbody>\n",
              "</table>\n",
              "</div>\n",
              "      <button class=\"colab-df-convert\" onclick=\"convertToInteractive('df-845d57ba-4af9-4061-b8fe-4d193e73e9dd')\"\n",
              "              title=\"Convert this dataframe to an interactive table.\"\n",
              "              style=\"display:none;\">\n",
              "        \n",
              "  <svg xmlns=\"http://www.w3.org/2000/svg\" height=\"24px\"viewBox=\"0 0 24 24\"\n",
              "       width=\"24px\">\n",
              "    <path d=\"M0 0h24v24H0V0z\" fill=\"none\"/>\n",
              "    <path d=\"M18.56 5.44l.94 2.06.94-2.06 2.06-.94-2.06-.94-.94-2.06-.94 2.06-2.06.94zm-11 1L8.5 8.5l.94-2.06 2.06-.94-2.06-.94L8.5 2.5l-.94 2.06-2.06.94zm10 10l.94 2.06.94-2.06 2.06-.94-2.06-.94-.94-2.06-.94 2.06-2.06.94z\"/><path d=\"M17.41 7.96l-1.37-1.37c-.4-.4-.92-.59-1.43-.59-.52 0-1.04.2-1.43.59L10.3 9.45l-7.72 7.72c-.78.78-.78 2.05 0 2.83L4 21.41c.39.39.9.59 1.41.59.51 0 1.02-.2 1.41-.59l7.78-7.78 2.81-2.81c.8-.78.8-2.07 0-2.86zM5.41 20L4 18.59l7.72-7.72 1.47 1.35L5.41 20z\"/>\n",
              "  </svg>\n",
              "      </button>\n",
              "      \n",
              "  <style>\n",
              "    .colab-df-container {\n",
              "      display:flex;\n",
              "      flex-wrap:wrap;\n",
              "      gap: 12px;\n",
              "    }\n",
              "\n",
              "    .colab-df-convert {\n",
              "      background-color: #E8F0FE;\n",
              "      border: none;\n",
              "      border-radius: 50%;\n",
              "      cursor: pointer;\n",
              "      display: none;\n",
              "      fill: #1967D2;\n",
              "      height: 32px;\n",
              "      padding: 0 0 0 0;\n",
              "      width: 32px;\n",
              "    }\n",
              "\n",
              "    .colab-df-convert:hover {\n",
              "      background-color: #E2EBFA;\n",
              "      box-shadow: 0px 1px 2px rgba(60, 64, 67, 0.3), 0px 1px 3px 1px rgba(60, 64, 67, 0.15);\n",
              "      fill: #174EA6;\n",
              "    }\n",
              "\n",
              "    [theme=dark] .colab-df-convert {\n",
              "      background-color: #3B4455;\n",
              "      fill: #D2E3FC;\n",
              "    }\n",
              "\n",
              "    [theme=dark] .colab-df-convert:hover {\n",
              "      background-color: #434B5C;\n",
              "      box-shadow: 0px 1px 3px 1px rgba(0, 0, 0, 0.15);\n",
              "      filter: drop-shadow(0px 1px 2px rgba(0, 0, 0, 0.3));\n",
              "      fill: #FFFFFF;\n",
              "    }\n",
              "  </style>\n",
              "\n",
              "      <script>\n",
              "        const buttonEl =\n",
              "          document.querySelector('#df-845d57ba-4af9-4061-b8fe-4d193e73e9dd button.colab-df-convert');\n",
              "        buttonEl.style.display =\n",
              "          google.colab.kernel.accessAllowed ? 'block' : 'none';\n",
              "\n",
              "        async function convertToInteractive(key) {\n",
              "          const element = document.querySelector('#df-845d57ba-4af9-4061-b8fe-4d193e73e9dd');\n",
              "          const dataTable =\n",
              "            await google.colab.kernel.invokeFunction('convertToInteractive',\n",
              "                                                     [key], {});\n",
              "          if (!dataTable) return;\n",
              "\n",
              "          const docLinkHtml = 'Like what you see? Visit the ' +\n",
              "            '<a target=\"_blank\" href=https://colab.research.google.com/notebooks/data_table.ipynb>data table notebook</a>'\n",
              "            + ' to learn more about interactive tables.';\n",
              "          element.innerHTML = '';\n",
              "          dataTable['output_type'] = 'display_data';\n",
              "          await google.colab.output.renderOutput(dataTable, element);\n",
              "          const docLink = document.createElement('div');\n",
              "          docLink.innerHTML = docLinkHtml;\n",
              "          element.appendChild(docLink);\n",
              "        }\n",
              "      </script>\n",
              "    </div>\n",
              "  </div>\n",
              "  "
            ]
          },
          "metadata": {},
          "execution_count": 80
        }
      ]
    },
    {
      "cell_type": "code",
      "source": [
        "df.to_csv('/content/haystack_model.csv', columns=df.columns, index=False)"
      ],
      "metadata": {
        "id": "nd63MvzG4JqU"
      },
      "execution_count": 81,
      "outputs": []
    }
  ]
}