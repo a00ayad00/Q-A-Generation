{
 "cells": [
  {
   "cell_type": "markdown",
   "id": "9fd956bb",
   "metadata": {},
   "source": [
    "# <span style=\"color:red\">Txt Cleaning</span>"
   ]
  },
  {
   "cell_type": "code",
   "execution_count": 1,
   "id": "6d7d0266",
   "metadata": {},
   "outputs": [
    {
     "data": {
      "text/plain": [
       "'1.9.1'"
      ]
     },
     "execution_count": 1,
     "metadata": {},
     "output_type": "execute_result"
    }
   ],
   "source": [
    "import scipy\n",
    "scipy.__version__"
   ]
  },
  {
   "cell_type": "code",
   "execution_count": 2,
   "id": "1ddbd294",
   "metadata": {},
   "outputs": [],
   "source": [
    "import pke"
   ]
  },
  {
   "cell_type": "code",
   "execution_count": 3,
   "id": "411272f2",
   "metadata": {},
   "outputs": [
    {
     "ename": "FileNotFoundError",
     "evalue": "[WinError 2] The system cannot find the file specified: 'W:\\\\Qs Generation'",
     "output_type": "error",
     "traceback": [
      "\u001b[1;31m---------------------------------------------------------------------------\u001b[0m",
      "\u001b[1;31mFileNotFoundError\u001b[0m                         Traceback (most recent call last)",
      "\u001b[1;32m~\\AppData\\Local\\Temp\\ipykernel_14844\\1206845907.py\u001b[0m in \u001b[0;36m<module>\u001b[1;34m\u001b[0m\n\u001b[0;32m      3\u001b[0m \u001b[1;33m\u001b[0m\u001b[0m\n\u001b[0;32m      4\u001b[0m \u001b[1;32mimport\u001b[0m \u001b[0mos\u001b[0m\u001b[1;33m\u001b[0m\u001b[1;33m\u001b[0m\u001b[0m\n\u001b[1;32m----> 5\u001b[1;33m \u001b[0mos\u001b[0m\u001b[1;33m.\u001b[0m\u001b[0mchdir\u001b[0m\u001b[1;33m(\u001b[0m\u001b[1;34m'W:\\Qs Generation'\u001b[0m\u001b[1;33m)\u001b[0m\u001b[1;33m\u001b[0m\u001b[1;33m\u001b[0m\u001b[0m\n\u001b[0m\u001b[0;32m      6\u001b[0m \u001b[1;33m\u001b[0m\u001b[0m\n\u001b[0;32m      7\u001b[0m \u001b[1;32mimport\u001b[0m \u001b[0mpandas\u001b[0m \u001b[1;32mas\u001b[0m \u001b[0mpd\u001b[0m\u001b[1;33m\u001b[0m\u001b[1;33m\u001b[0m\u001b[0m\n",
      "\u001b[1;31mFileNotFoundError\u001b[0m: [WinError 2] The system cannot find the file specified: 'W:\\\\Qs Generation'"
     ]
    }
   ],
   "source": [
    "import warnings\n",
    "warnings.filterwarnings('ignore')\n",
    "\n",
    "import os\n",
    "os.chdir('W:\\Qs Generation')\n",
    "\n",
    "import pandas as pd\n",
    "\n",
    "import numpy as np\n",
    "\n",
    "import matplotlib.pyplot as plt\n",
    "import seaborn as sns\n",
    "\n",
    "import re\n",
    "import string"
   ]
  },
  {
   "cell_type": "code",
   "execution_count": null,
   "id": "46cc3bd5",
   "metadata": {},
   "outputs": [],
   "source": [
    "txt = open('Skill_BOK.txt', mode = 'rt', encoding='utf-16')"
   ]
  },
  {
   "cell_type": "code",
   "execution_count": null,
   "id": "963fcb13",
   "metadata": {},
   "outputs": [],
   "source": [
    "with open(\"Skill_BOK.txt\", encoding='utf-16') as f:\n",
    "    txt = f.read()"
   ]
  },
  {
   "cell_type": "code",
   "execution_count": null,
   "id": "23039802",
   "metadata": {},
   "outputs": [],
   "source": [
    "txt = txt.lower()\n",
    "type(txt)"
   ]
  },
  {
   "cell_type": "code",
   "execution_count": null,
   "id": "178913e5",
   "metadata": {},
   "outputs": [],
   "source": [
    "arabic_pattern = '[أ-ي]'\n",
    "txt = re.sub(arabic_pattern, '', txt)"
   ]
  },
  {
   "cell_type": "code",
   "execution_count": null,
   "id": "e478af39",
   "metadata": {},
   "outputs": [],
   "source": [
    "txt.count('@')"
   ]
  },
  {
   "cell_type": "code",
   "execution_count": null,
   "id": "fce4b533",
   "metadata": {},
   "outputs": [],
   "source": [
    "pattern = '\\S+@\\S+'\n",
    "\n",
    "email = re.compile(pattern)\n",
    "print(email.findall(txt))"
   ]
  },
  {
   "cell_type": "code",
   "execution_count": null,
   "id": "8d2378f9",
   "metadata": {},
   "outputs": [],
   "source": [
    "txt1 = re.sub(pattern, '', txt)"
   ]
  },
  {
   "cell_type": "code",
   "execution_count": null,
   "id": "e505cdfc",
   "metadata": {},
   "outputs": [],
   "source": [
    "pattern = '\\S+\\s+@\\s+\\S+'\n",
    "\n",
    "email = re.compile(pattern)\n",
    "print(email.findall(txt1))"
   ]
  },
  {
   "cell_type": "code",
   "execution_count": null,
   "id": "9821abe2",
   "metadata": {},
   "outputs": [],
   "source": [
    "txt1 = re.sub(pattern, '', txt1)"
   ]
  },
  {
   "cell_type": "code",
   "execution_count": null,
   "id": "aa83da25",
   "metadata": {},
   "outputs": [],
   "source": [
    "txt1.count('@')"
   ]
  },
  {
   "cell_type": "code",
   "execution_count": null,
   "id": "ff350f90",
   "metadata": {},
   "outputs": [],
   "source": [
    "colon_pattern = re.compile(r'\\S+:\\S+')\n",
    "print(colon_pattern.findall(txt1))"
   ]
  },
  {
   "cell_type": "code",
   "execution_count": null,
   "id": "9d82c31b",
   "metadata": {},
   "outputs": [],
   "source": [
    "txt2 = re.sub(colon_pattern, '', txt1)"
   ]
  },
  {
   "cell_type": "code",
   "execution_count": null,
   "id": "a72fce8a",
   "metadata": {},
   "outputs": [],
   "source": [
    "code_pattern = re.compile('[[0-9]+]')\n",
    "print(code_pattern.findall(txt2))"
   ]
  },
  {
   "cell_type": "code",
   "execution_count": null,
   "id": "27b3f3a5",
   "metadata": {},
   "outputs": [],
   "source": [
    "txt2 = re.sub(code_pattern, '', txt2)"
   ]
  },
  {
   "cell_type": "code",
   "execution_count": null,
   "id": "f4a2be8e",
   "metadata": {},
   "outputs": [],
   "source": [
    "txt2 = re.sub('[0-9]', '', txt2)\n",
    "# txt2"
   ]
  },
  {
   "cell_type": "code",
   "execution_count": null,
   "id": "912c963e",
   "metadata": {},
   "outputs": [],
   "source": [
    "pattern_plus = '[[0-9]+|\\s+]\\+[[0-9]+|\\s+]'\n",
    "\n",
    "txt3 = re.sub(pattern_plus, '', txt2)\n",
    "txt3"
   ]
  },
  {
   "cell_type": "code",
   "execution_count": null,
   "id": "b04a8d9e",
   "metadata": {},
   "outputs": [],
   "source": [
    "puncs = string.punctuation\n",
    "puncs"
   ]
  },
  {
   "cell_type": "code",
   "execution_count": null,
   "id": "a6b6d291",
   "metadata": {},
   "outputs": [],
   "source": [
    "puncs = '!\"$%&\\'()*-./:;<=>?@[\\\\]^_`{|}~'"
   ]
  },
  {
   "cell_type": "code",
   "execution_count": null,
   "id": "8ef1877e",
   "metadata": {},
   "outputs": [],
   "source": [
    "pattern_punc = puncs\n",
    "new_string = txt3.translate(str.maketrans('', '', pattern_punc))"
   ]
  },
  {
   "cell_type": "code",
   "execution_count": null,
   "id": "1aacfd6d",
   "metadata": {},
   "outputs": [],
   "source": [
    "comma_pattern = '[,]\\s'\n",
    "new_string = re.sub(comma_pattern, ' ', new_string)"
   ]
  },
  {
   "cell_type": "code",
   "execution_count": null,
   "id": "39b0df27",
   "metadata": {},
   "outputs": [],
   "source": [
    "space_pattern = '[\\s+]{3}'\n",
    "new_string = re.sub(space_pattern, '', new_string)\n",
    "new_string"
   ]
  },
  {
   "cell_type": "code",
   "execution_count": null,
   "id": "0bc31020",
   "metadata": {},
   "outputs": [],
   "source": []
  }
 ],
 "metadata": {
  "kernelspec": {
   "display_name": "Python 3 (ipykernel)",
   "language": "python",
   "name": "python3"
  },
  "language_info": {
   "codemirror_mode": {
    "name": "ipython",
    "version": 3
   },
   "file_extension": ".py",
   "mimetype": "text/x-python",
   "name": "python",
   "nbconvert_exporter": "python",
   "pygments_lexer": "ipython3",
   "version": "3.9.13"
  }
 },
 "nbformat": 4,
 "nbformat_minor": 5
}
