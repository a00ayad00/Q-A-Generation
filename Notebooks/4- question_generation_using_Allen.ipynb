{
  "nbformat": 4,
  "nbformat_minor": 0,
  "metadata": {
    "colab": {
      "provenance": []
    },
    "kernelspec": {
      "name": "python3",
      "display_name": "Python 3"
    },
    "language_info": {
      "name": "python"
    }
  },
  "cells": [
    {
      "cell_type": "markdown",
      "source": [
        "[Allen reference](https://demo.allennlp.org/reading-comprehension/bidaf-elmo)"
      ],
      "metadata": {
        "id": "zYXzwE3G44MN"
      }
    },
    {
      "cell_type": "code",
      "execution_count": 1,
      "metadata": {
        "id": "6Ogor49j4H8V"
      },
      "outputs": [],
      "source": [
        "# !pip install bert-extractive-summarizer --upgrade --force-reinstall\n",
        "# !pip install --quiet git+https://github.com/huggingface/transformers.git@5c00918681d6b4027701eb46cea8f795da0d4064\n",
        "# !pip install --quiet sentencepiece==0.1.95\n",
        "# !pip install -U wn==0.0.22\n",
        "# !pip install --quiet ipython-autotime\n",
        "# !pip install monkeylearn\n",
        "# !python3 -m spacy download en_core_web_sm\n",
        "# !pip install flask-ngrok\n",
        "# !pip install trafilatura\n",
        "# !pip install allennlp==2.1.0 allennlp-models==2.1.0\n",
        "# !pip install pymongo\n",
        "# !pip install -U pywsd\n",
        "# !pip install markupsafe==2.0.1\n",
        "# !pip install spacy==3.4\n",
        "# %load_ext autotime"
      ]
    },
    {
      "cell_type": "code",
      "source": [
        "import pandas as pd\n",
        "hs_data = pd.read_csv('/content/haystack_model.csv')\n",
        "hs_data.head()"
      ],
      "metadata": {
        "colab": {
          "base_uri": "https://localhost:8080/",
          "height": 424
        },
        "id": "6PuzZkRG_LMA",
        "outputId": "c7420e63-a40d-4580-e0b6-fa0ee3fef110"
      },
      "execution_count": 2,
      "outputs": [
        {
          "output_type": "execute_result",
          "data": {
            "text/plain": [
              "                                          keyphrases  \\\n",
              "0  ['egyptian civilization', 'egypt', 'nile river...   \n",
              "1  ['egypt', 'underground tomb', 'priest', 'peopl...   \n",
              "2  ['egypt', 'underground tomb', 'priest', 'peopl...   \n",
              "3  ['egypt', 'underground tomb', 'priest', 'peopl...   \n",
              "4  ['egypt', 'underground tomb', 'priest', 'peopl...   \n",
              "\n",
              "                                             context  \\\n",
              "0  As Egyptian civilization grew more complex, pe...   \n",
              "1  As in many ancient societies, much of the know...   \n",
              "2  As in many ancient societies, much of the know...   \n",
              "3  As in many ancient societies, much of the know...   \n",
              "4  As in many ancient societies, much of the know...   \n",
              "\n",
              "                                               query  \\\n",
              "0  What river fed Egyptian civilization for hundr...   \n",
              "1  When did priests study the world to find ways ...   \n",
              "2  Where were veins of copper, iron, and bronze h...   \n",
              "3                               Who was the pharaoh?   \n",
              "4                   What peninsula is east of Egypt?   \n",
              "\n",
              "                                              answer  \n",
              "0                                     The Nile River  \n",
              "1  ancient societies, much of the knowledge of Egypt  \n",
              "2                                   desert mountains  \n",
              "3                                              a god  \n",
              "4                                    Sinai Peninsula  "
            ],
            "text/html": [
              "\n",
              "  <div id=\"df-ef16a9a0-85e8-42af-9aef-e10d60856859\">\n",
              "    <div class=\"colab-df-container\">\n",
              "      <div>\n",
              "<style scoped>\n",
              "    .dataframe tbody tr th:only-of-type {\n",
              "        vertical-align: middle;\n",
              "    }\n",
              "\n",
              "    .dataframe tbody tr th {\n",
              "        vertical-align: top;\n",
              "    }\n",
              "\n",
              "    .dataframe thead th {\n",
              "        text-align: right;\n",
              "    }\n",
              "</style>\n",
              "<table border=\"1\" class=\"dataframe\">\n",
              "  <thead>\n",
              "    <tr style=\"text-align: right;\">\n",
              "      <th></th>\n",
              "      <th>keyphrases</th>\n",
              "      <th>context</th>\n",
              "      <th>query</th>\n",
              "      <th>answer</th>\n",
              "    </tr>\n",
              "  </thead>\n",
              "  <tbody>\n",
              "    <tr>\n",
              "      <th>0</th>\n",
              "      <td>['egyptian civilization', 'egypt', 'nile river...</td>\n",
              "      <td>As Egyptian civilization grew more complex, pe...</td>\n",
              "      <td>What river fed Egyptian civilization for hundr...</td>\n",
              "      <td>The Nile River</td>\n",
              "    </tr>\n",
              "    <tr>\n",
              "      <th>1</th>\n",
              "      <td>['egypt', 'underground tomb', 'priest', 'peopl...</td>\n",
              "      <td>As in many ancient societies, much of the know...</td>\n",
              "      <td>When did priests study the world to find ways ...</td>\n",
              "      <td>ancient societies, much of the knowledge of Egypt</td>\n",
              "    </tr>\n",
              "    <tr>\n",
              "      <th>2</th>\n",
              "      <td>['egypt', 'underground tomb', 'priest', 'peopl...</td>\n",
              "      <td>As in many ancient societies, much of the know...</td>\n",
              "      <td>Where were veins of copper, iron, and bronze h...</td>\n",
              "      <td>desert mountains</td>\n",
              "    </tr>\n",
              "    <tr>\n",
              "      <th>3</th>\n",
              "      <td>['egypt', 'underground tomb', 'priest', 'peopl...</td>\n",
              "      <td>As in many ancient societies, much of the know...</td>\n",
              "      <td>Who was the pharaoh?</td>\n",
              "      <td>a god</td>\n",
              "    </tr>\n",
              "    <tr>\n",
              "      <th>4</th>\n",
              "      <td>['egypt', 'underground tomb', 'priest', 'peopl...</td>\n",
              "      <td>As in many ancient societies, much of the know...</td>\n",
              "      <td>What peninsula is east of Egypt?</td>\n",
              "      <td>Sinai Peninsula</td>\n",
              "    </tr>\n",
              "  </tbody>\n",
              "</table>\n",
              "</div>\n",
              "      <button class=\"colab-df-convert\" onclick=\"convertToInteractive('df-ef16a9a0-85e8-42af-9aef-e10d60856859')\"\n",
              "              title=\"Convert this dataframe to an interactive table.\"\n",
              "              style=\"display:none;\">\n",
              "        \n",
              "  <svg xmlns=\"http://www.w3.org/2000/svg\" height=\"24px\"viewBox=\"0 0 24 24\"\n",
              "       width=\"24px\">\n",
              "    <path d=\"M0 0h24v24H0V0z\" fill=\"none\"/>\n",
              "    <path d=\"M18.56 5.44l.94 2.06.94-2.06 2.06-.94-2.06-.94-.94-2.06-.94 2.06-2.06.94zm-11 1L8.5 8.5l.94-2.06 2.06-.94-2.06-.94L8.5 2.5l-.94 2.06-2.06.94zm10 10l.94 2.06.94-2.06 2.06-.94-2.06-.94-.94-2.06-.94 2.06-2.06.94z\"/><path d=\"M17.41 7.96l-1.37-1.37c-.4-.4-.92-.59-1.43-.59-.52 0-1.04.2-1.43.59L10.3 9.45l-7.72 7.72c-.78.78-.78 2.05 0 2.83L4 21.41c.39.39.9.59 1.41.59.51 0 1.02-.2 1.41-.59l7.78-7.78 2.81-2.81c.8-.78.8-2.07 0-2.86zM5.41 20L4 18.59l7.72-7.72 1.47 1.35L5.41 20z\"/>\n",
              "  </svg>\n",
              "      </button>\n",
              "      \n",
              "  <style>\n",
              "    .colab-df-container {\n",
              "      display:flex;\n",
              "      flex-wrap:wrap;\n",
              "      gap: 12px;\n",
              "    }\n",
              "\n",
              "    .colab-df-convert {\n",
              "      background-color: #E8F0FE;\n",
              "      border: none;\n",
              "      border-radius: 50%;\n",
              "      cursor: pointer;\n",
              "      display: none;\n",
              "      fill: #1967D2;\n",
              "      height: 32px;\n",
              "      padding: 0 0 0 0;\n",
              "      width: 32px;\n",
              "    }\n",
              "\n",
              "    .colab-df-convert:hover {\n",
              "      background-color: #E2EBFA;\n",
              "      box-shadow: 0px 1px 2px rgba(60, 64, 67, 0.3), 0px 1px 3px 1px rgba(60, 64, 67, 0.15);\n",
              "      fill: #174EA6;\n",
              "    }\n",
              "\n",
              "    [theme=dark] .colab-df-convert {\n",
              "      background-color: #3B4455;\n",
              "      fill: #D2E3FC;\n",
              "    }\n",
              "\n",
              "    [theme=dark] .colab-df-convert:hover {\n",
              "      background-color: #434B5C;\n",
              "      box-shadow: 0px 1px 3px 1px rgba(0, 0, 0, 0.15);\n",
              "      filter: drop-shadow(0px 1px 2px rgba(0, 0, 0, 0.3));\n",
              "      fill: #FFFFFF;\n",
              "    }\n",
              "  </style>\n",
              "\n",
              "      <script>\n",
              "        const buttonEl =\n",
              "          document.querySelector('#df-ef16a9a0-85e8-42af-9aef-e10d60856859 button.colab-df-convert');\n",
              "        buttonEl.style.display =\n",
              "          google.colab.kernel.accessAllowed ? 'block' : 'none';\n",
              "\n",
              "        async function convertToInteractive(key) {\n",
              "          const element = document.querySelector('#df-ef16a9a0-85e8-42af-9aef-e10d60856859');\n",
              "          const dataTable =\n",
              "            await google.colab.kernel.invokeFunction('convertToInteractive',\n",
              "                                                     [key], {});\n",
              "          if (!dataTable) return;\n",
              "\n",
              "          const docLinkHtml = 'Like what you see? Visit the ' +\n",
              "            '<a target=\"_blank\" href=https://colab.research.google.com/notebooks/data_table.ipynb>data table notebook</a>'\n",
              "            + ' to learn more about interactive tables.';\n",
              "          element.innerHTML = '';\n",
              "          dataTable['output_type'] = 'display_data';\n",
              "          await google.colab.output.renderOutput(dataTable, element);\n",
              "          const docLink = document.createElement('div');\n",
              "          docLink.innerHTML = docLinkHtml;\n",
              "          element.appendChild(docLink);\n",
              "        }\n",
              "      </script>\n",
              "    </div>\n",
              "  </div>\n",
              "  "
            ]
          },
          "metadata": {},
          "execution_count": 2
        }
      ]
    },
    {
      "cell_type": "code",
      "source": [
        "from allennlp.predictors.predictor import Predictor\n",
        "import allennlp_models.rc\n",
        "predictor = Predictor.from_path(\"https://storage.googleapis.com/allennlp-public-models/bidaf-elmo.2021-02-11.tar.gz\")\n"
      ],
      "metadata": {
        "colab": {
          "base_uri": "https://localhost:8080/"
        },
        "id": "1P4FV_4V_K7_",
        "outputId": "3ff97bc8-3597-4a50-e92e-1653bb9ba3b4"
      },
      "execution_count": 3,
      "outputs": [
        {
          "output_type": "stream",
          "name": "stderr",
          "text": [
            "[nltk_data] Downloading package punkt to /root/nltk_data...\n",
            "[nltk_data]   Unzipping tokenizers/punkt.zip.\n",
            "[nltk_data] Downloading package wordnet to /root/nltk_data...\n",
            "downloading: 100%|##########| 418118611/418118611 [00:09<00:00, 45634492.29B/s]\n",
            "downloading: 100%|##########| 336/336 [00:00<00:00, 639712.28B/s]\n",
            "downloading: 100%|##########| 374434792/374434792 [00:35<00:00, 10528248.09B/s]\n",
            "/usr/local/lib/python3.7/dist-packages/torch/nn/modules/container.py:435: UserWarning: Setting attributes on ParameterList is not supported.\n",
            "  warnings.warn(\"Setting attributes on ParameterList is not supported.\")\n"
          ]
        }
      ]
    },
    {
      "cell_type": "code",
      "source": [
        "al_data = dict()\n",
        "\n",
        "al_data['keyphrases'] = hs_data['keyphrases']\n",
        "al_data['context'] = hs_data['context']\n",
        "al_data['query'] = hs_data['query']\n",
        "al_data['answer'] = []"
      ],
      "metadata": {
        "id": "AQ0GQuK3MwXB"
      },
      "execution_count": 6,
      "outputs": []
    },
    {
      "cell_type": "code",
      "source": [
        "for i in range(len(al_data['query'])):\n",
        "  ans = predictor.predict(\n",
        "      passage=al_data['context'][i],\n",
        "      question=al_data['query'][i]\n",
        "  )['best_span_str']\n",
        "  al_data['answer'].append(ans)"
      ],
      "metadata": {
        "colab": {
          "base_uri": "https://localhost:8080/"
        },
        "id": "mWEiQk5_4h2F",
        "outputId": "41bd6614-d644-43d2-8949-5e7bd0a8bfc1"
      },
      "execution_count": 7,
      "outputs": [
        {
          "output_type": "stream",
          "name": "stderr",
          "text": [
            "/usr/local/lib/python3.7/dist-packages/spacy/pipeline/lemmatizer.py:211: UserWarning: [W108] The rule-based lemmatizer did not find POS annotation for one or more tokens. Check that your pipeline includes components that assign token.pos, typically 'tagger'+'attribute_ruler' or 'morphologizer'.\n",
            "  warnings.warn(Warnings.W108)\n"
          ]
        }
      ]
    },
    {
      "cell_type": "code",
      "source": [
        "df = pd.DataFrame(al_data)\n",
        "df.head()"
      ],
      "metadata": {
        "colab": {
          "base_uri": "https://localhost:8080/",
          "height": 424
        },
        "id": "jM4KRQnpASWn",
        "outputId": "5f9efd3d-6dbb-4d8e-bc25-9c630e1b82ca"
      },
      "execution_count": 8,
      "outputs": [
        {
          "output_type": "execute_result",
          "data": {
            "text/plain": [
              "                                          keyphrases  \\\n",
              "0  ['egyptian civilization', 'egypt', 'nile river...   \n",
              "1  ['egypt', 'underground tomb', 'priest', 'peopl...   \n",
              "2  ['egypt', 'underground tomb', 'priest', 'peopl...   \n",
              "3  ['egypt', 'underground tomb', 'priest', 'peopl...   \n",
              "4  ['egypt', 'underground tomb', 'priest', 'peopl...   \n",
              "\n",
              "                                             context  \\\n",
              "0  As Egyptian civilization grew more complex, pe...   \n",
              "1  As in many ancient societies, much of the know...   \n",
              "2  As in many ancient societies, much of the know...   \n",
              "3  As in many ancient societies, much of the know...   \n",
              "4  As in many ancient societies, much of the know...   \n",
              "\n",
              "                                               query  \\\n",
              "0  What river fed Egyptian civilization for hundr...   \n",
              "1  When did priests study the world to find ways ...   \n",
              "2  Where were veins of copper, iron, and bronze h...   \n",
              "3                               Who was the pharaoh?   \n",
              "4                   What peninsula is east of Egypt?   \n",
              "\n",
              "                         answer  \n",
              "0                    Nile River  \n",
              "1  As in many ancient societies  \n",
              "2       inside desert mountains  \n",
              "3                 king of Egypt  \n",
              "4               Sinai Peninsula  "
            ],
            "text/html": [
              "\n",
              "  <div id=\"df-03197dbe-d362-455f-8d86-1a0db0f22055\">\n",
              "    <div class=\"colab-df-container\">\n",
              "      <div>\n",
              "<style scoped>\n",
              "    .dataframe tbody tr th:only-of-type {\n",
              "        vertical-align: middle;\n",
              "    }\n",
              "\n",
              "    .dataframe tbody tr th {\n",
              "        vertical-align: top;\n",
              "    }\n",
              "\n",
              "    .dataframe thead th {\n",
              "        text-align: right;\n",
              "    }\n",
              "</style>\n",
              "<table border=\"1\" class=\"dataframe\">\n",
              "  <thead>\n",
              "    <tr style=\"text-align: right;\">\n",
              "      <th></th>\n",
              "      <th>keyphrases</th>\n",
              "      <th>context</th>\n",
              "      <th>query</th>\n",
              "      <th>answer</th>\n",
              "    </tr>\n",
              "  </thead>\n",
              "  <tbody>\n",
              "    <tr>\n",
              "      <th>0</th>\n",
              "      <td>['egyptian civilization', 'egypt', 'nile river...</td>\n",
              "      <td>As Egyptian civilization grew more complex, pe...</td>\n",
              "      <td>What river fed Egyptian civilization for hundr...</td>\n",
              "      <td>Nile River</td>\n",
              "    </tr>\n",
              "    <tr>\n",
              "      <th>1</th>\n",
              "      <td>['egypt', 'underground tomb', 'priest', 'peopl...</td>\n",
              "      <td>As in many ancient societies, much of the know...</td>\n",
              "      <td>When did priests study the world to find ways ...</td>\n",
              "      <td>As in many ancient societies</td>\n",
              "    </tr>\n",
              "    <tr>\n",
              "      <th>2</th>\n",
              "      <td>['egypt', 'underground tomb', 'priest', 'peopl...</td>\n",
              "      <td>As in many ancient societies, much of the know...</td>\n",
              "      <td>Where were veins of copper, iron, and bronze h...</td>\n",
              "      <td>inside desert mountains</td>\n",
              "    </tr>\n",
              "    <tr>\n",
              "      <th>3</th>\n",
              "      <td>['egypt', 'underground tomb', 'priest', 'peopl...</td>\n",
              "      <td>As in many ancient societies, much of the know...</td>\n",
              "      <td>Who was the pharaoh?</td>\n",
              "      <td>king of Egypt</td>\n",
              "    </tr>\n",
              "    <tr>\n",
              "      <th>4</th>\n",
              "      <td>['egypt', 'underground tomb', 'priest', 'peopl...</td>\n",
              "      <td>As in many ancient societies, much of the know...</td>\n",
              "      <td>What peninsula is east of Egypt?</td>\n",
              "      <td>Sinai Peninsula</td>\n",
              "    </tr>\n",
              "  </tbody>\n",
              "</table>\n",
              "</div>\n",
              "      <button class=\"colab-df-convert\" onclick=\"convertToInteractive('df-03197dbe-d362-455f-8d86-1a0db0f22055')\"\n",
              "              title=\"Convert this dataframe to an interactive table.\"\n",
              "              style=\"display:none;\">\n",
              "        \n",
              "  <svg xmlns=\"http://www.w3.org/2000/svg\" height=\"24px\"viewBox=\"0 0 24 24\"\n",
              "       width=\"24px\">\n",
              "    <path d=\"M0 0h24v24H0V0z\" fill=\"none\"/>\n",
              "    <path d=\"M18.56 5.44l.94 2.06.94-2.06 2.06-.94-2.06-.94-.94-2.06-.94 2.06-2.06.94zm-11 1L8.5 8.5l.94-2.06 2.06-.94-2.06-.94L8.5 2.5l-.94 2.06-2.06.94zm10 10l.94 2.06.94-2.06 2.06-.94-2.06-.94-.94-2.06-.94 2.06-2.06.94z\"/><path d=\"M17.41 7.96l-1.37-1.37c-.4-.4-.92-.59-1.43-.59-.52 0-1.04.2-1.43.59L10.3 9.45l-7.72 7.72c-.78.78-.78 2.05 0 2.83L4 21.41c.39.39.9.59 1.41.59.51 0 1.02-.2 1.41-.59l7.78-7.78 2.81-2.81c.8-.78.8-2.07 0-2.86zM5.41 20L4 18.59l7.72-7.72 1.47 1.35L5.41 20z\"/>\n",
              "  </svg>\n",
              "      </button>\n",
              "      \n",
              "  <style>\n",
              "    .colab-df-container {\n",
              "      display:flex;\n",
              "      flex-wrap:wrap;\n",
              "      gap: 12px;\n",
              "    }\n",
              "\n",
              "    .colab-df-convert {\n",
              "      background-color: #E8F0FE;\n",
              "      border: none;\n",
              "      border-radius: 50%;\n",
              "      cursor: pointer;\n",
              "      display: none;\n",
              "      fill: #1967D2;\n",
              "      height: 32px;\n",
              "      padding: 0 0 0 0;\n",
              "      width: 32px;\n",
              "    }\n",
              "\n",
              "    .colab-df-convert:hover {\n",
              "      background-color: #E2EBFA;\n",
              "      box-shadow: 0px 1px 2px rgba(60, 64, 67, 0.3), 0px 1px 3px 1px rgba(60, 64, 67, 0.15);\n",
              "      fill: #174EA6;\n",
              "    }\n",
              "\n",
              "    [theme=dark] .colab-df-convert {\n",
              "      background-color: #3B4455;\n",
              "      fill: #D2E3FC;\n",
              "    }\n",
              "\n",
              "    [theme=dark] .colab-df-convert:hover {\n",
              "      background-color: #434B5C;\n",
              "      box-shadow: 0px 1px 3px 1px rgba(0, 0, 0, 0.15);\n",
              "      filter: drop-shadow(0px 1px 2px rgba(0, 0, 0, 0.3));\n",
              "      fill: #FFFFFF;\n",
              "    }\n",
              "  </style>\n",
              "\n",
              "      <script>\n",
              "        const buttonEl =\n",
              "          document.querySelector('#df-03197dbe-d362-455f-8d86-1a0db0f22055 button.colab-df-convert');\n",
              "        buttonEl.style.display =\n",
              "          google.colab.kernel.accessAllowed ? 'block' : 'none';\n",
              "\n",
              "        async function convertToInteractive(key) {\n",
              "          const element = document.querySelector('#df-03197dbe-d362-455f-8d86-1a0db0f22055');\n",
              "          const dataTable =\n",
              "            await google.colab.kernel.invokeFunction('convertToInteractive',\n",
              "                                                     [key], {});\n",
              "          if (!dataTable) return;\n",
              "\n",
              "          const docLinkHtml = 'Like what you see? Visit the ' +\n",
              "            '<a target=\"_blank\" href=https://colab.research.google.com/notebooks/data_table.ipynb>data table notebook</a>'\n",
              "            + ' to learn more about interactive tables.';\n",
              "          element.innerHTML = '';\n",
              "          dataTable['output_type'] = 'display_data';\n",
              "          await google.colab.output.renderOutput(dataTable, element);\n",
              "          const docLink = document.createElement('div');\n",
              "          docLink.innerHTML = docLinkHtml;\n",
              "          element.appendChild(docLink);\n",
              "        }\n",
              "      </script>\n",
              "    </div>\n",
              "  </div>\n",
              "  "
            ]
          },
          "metadata": {},
          "execution_count": 8
        }
      ]
    },
    {
      "cell_type": "code",
      "source": [
        "df.to_csv('/content/allen_model.csv', index=False, columns=df.columns)"
      ],
      "metadata": {
        "id": "Kx4m4wS-Dt6-"
      },
      "execution_count": 9,
      "outputs": []
    },
    {
      "cell_type": "code",
      "source": [],
      "metadata": {
        "id": "zQJb4xxX_JbF"
      },
      "execution_count": null,
      "outputs": []
    },
    {
      "cell_type": "code",
      "source": [],
      "metadata": {
        "id": "oqd5YY5v_Jr6"
      },
      "execution_count": null,
      "outputs": []
    },
    {
      "cell_type": "code",
      "source": [],
      "metadata": {
        "id": "LrGTWsl8_J2_"
      },
      "execution_count": null,
      "outputs": []
    }
  ]
}